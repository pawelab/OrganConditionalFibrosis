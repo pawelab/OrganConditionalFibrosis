{
 "cells": [
  {
   "cell_type": "markdown",
   "metadata": {},
   "source": [
    "# Building a multi-organ GRN using score results from PG-SCOTT!\n",
    "\n",
    "Scores generated in `find_genes_peaks.ipynb`. This notebook will serve to build a gene regulatory network, starting with one organ (heart) and expanding."
   ]
  },
  {
   "cell_type": "code",
   "execution_count": 1,
   "metadata": {},
   "outputs": [],
   "source": [
    "# import libraries\n",
    "import pandas as pd\n",
    "from scipy.io import mmread\n",
    "import anndata as ad\n",
    "import json"
   ]
  },
  {
   "cell_type": "code",
   "execution_count": 2,
   "metadata": {},
   "outputs": [],
   "source": [
    "# load data\n",
    "sensitivity_df = pd.read_csv('./data/pg_pairs_sensitivity.csv', index_col=[0, 1], header=[0, 1])\n",
    "specificity_df = pd.read_csv('./data/pg_pairs_specificity.csv', index_col=[0, 1], header=[0, 1])\n",
    "universality_df = pd.read_csv('./data/pg_pairs_universality.csv', index_col=[0, 1])\n",
    "atac_adata = ad.read_h5ad('./data/atac.h5ad')\n",
    "translation_table = pd.read_table('./data/H12INVIVO/translationTable_hg38.csv', sep=' ')\n",
    "gene_locs = pd.read_csv('./data/gene_locations_hg38.tsv', sep='\\t', index_col='Symbol')\n",
    "tf_peak_overlap = mmread('./data/tf_peak_overlap.mtx')  # This and following obtained from GRaNIE TF_peak_overlap sparse matrix... could be done from scratch using .bed.gz files\n",
    "tf_motifs = pd.read_csv('./data/tf_names.csv', header=0, names=['idx', 'tf_file'])['tf_file']\n",
    "peak_locs = pd.read_csv('./data/peak_names.csv', header=0, names=['idx', 'peak_loc'])['peak_loc']"
   ]
  },
  {
   "cell_type": "markdown",
   "metadata": {},
   "source": [
    "### Heart GRN\n",
    "Bipartite, directed graph where each node is either a Peak or Gene. For each node, we have the following information. \n",
    "- Peak: Condition sensitivity score, Organ specificity score, universality score\n",
    "- Gene: Condition sensitivity score, Organ specificity score, universality score, whether it codes for a TF\n",
    "\n",
    "Each edge indicates:\n",
    "- Gene $\\rightarrow$ Peak: Gene codes for a transcription factor that binds to a region within or overlapping with this peak\n",
    "- Peak $\\rightarrow$ Gene: Peak is located within 150kb of Gene\n",
    "\n",
    "Questions that can be asked:\n",
    "- What genes share expression patterns with neighboring peak accessibility? How organ-specific are these peaks and genes?\n",
    "- What TFs bind to a given peak? Is the TF expressed across organs?"
   ]
  },
  {
   "cell_type": "code",
   "execution_count": 3,
   "metadata": {},
   "outputs": [],
   "source": [
    "gene_to_idx = {\n",
    "  gene: (gene, peak)\n",
    "  for gene, peak in sensitivity_df.index.to_frame(index = False).groupby('Gene').aggregate('first')['Peak'].items()\n",
    "}\n",
    "peak_to_idx = {\n",
    "  peak: (gene, peak)\n",
    "  for peak, gene in sensitivity_df.index.to_frame(index = False).groupby('Peak').aggregate('first')['Gene'].items()\n",
    "}\n",
    "organs = sensitivity_df.columns.get_level_values(0).unique()"
   ]
  },
  {
   "cell_type": "code",
   "execution_count": 5,
   "metadata": {},
   "outputs": [
    {
     "name": "stdout",
     "output_type": "stream",
     "text": [
      "21119\n",
      "146156\n"
     ]
    }
   ],
   "source": [
    "# Build nodes\n",
    "tf_names = set(translation_table['SYMBOL'])\n",
    "gene_to_info = [{ 'id': gene,\n",
    "                        'node_type': 'gene', \n",
    "                        'chr': f'chr{row['Chromosome']}',\n",
    "                        'start': row['Begin'],\n",
    "                        'end': row['End'],\n",
    "                        **{ organ: {\n",
    "                          'condition_sensitivity': sensitivity_df[organ, 'gene_score'][gene_to_idx[gene]],\n",
    "                          'organ_specificity': specificity_df[organ, 'gene_score'][gene_to_idx[gene]], \n",
    "                        } for organ in organs},\n",
    "                        'universality': universality_df['gene_score'][gene_to_idx[gene]],\n",
    "                        'tf_coding': gene in tf_names }\n",
    "                        for gene, row in gene_locs.loc[sensitivity_df.index.unique(level = 0)].iterrows()]\n",
    "print(len(gene_to_info))\n",
    "peak_to_info = [{'id': peak,\n",
    "                        'node_type': 'peak', \n",
    "                        'chr': atac_adata.var['Chr'][f'Interval_{peak}'],\n",
    "                        'start': atac_adata.var['Start'][f'Interval_{peak}'].item(),\n",
    "                        'end': atac_adata.var['End'][f'Interval_{peak}'].item(),\n",
    "                        **{ organ: {\n",
    "                          'condition_sensitivity': sensitivity_df[organ, 'peak_score'][peak_to_idx[peak]],\n",
    "                          'organ_specificity': specificity_df[organ, 'peak_score'][peak_to_idx[peak]], \n",
    "                        } for organ in organs},\n",
    "                        'universality': universality_df['peak_score'][peak_to_idx[peak]] } \n",
    "                        for peak in sensitivity_df.index.unique(level = 1)]\n",
    "print(len(peak_to_info))"
   ]
  },
  {
   "cell_type": "code",
   "execution_count": 6,
   "metadata": {},
   "outputs": [],
   "source": [
    "nodes = [*gene_to_info, *peak_to_info]"
   ]
  },
  {
   "cell_type": "code",
   "execution_count": 7,
   "metadata": {},
   "outputs": [
    {
     "data": {
      "text/plain": [
       "940"
      ]
     },
     "execution_count": 7,
     "metadata": {},
     "output_type": "execute_result"
    }
   ],
   "source": [
    "# Build edges (going with adjacency list representation for now, though this may complicate the ability to answer some of our questions of interest)\n",
    "\n",
    "# extract relevant TF information for gene -> peak mappings\n",
    "motif_to_name = translation_table['SYMBOL'].set_axis(translation_table['HOCOID'])\n",
    "peak_name_to_loc = atac_adata.var['Chr'].astype(str) + ':' + atac_adata.var['Start'].astype(str) + '-' + atac_adata.var['End'].astype(str)\n",
    "peak_loc_to_name = atac_adata.var_names.map(lambda peak_name: int(peak_name[9:])).to_series(index = peak_name_to_loc)\n",
    "peak_idx, tf_idx = tf_peak_overlap.nonzero()\n",
    "tf_to_peaks = { motif_to_name[tf_motif]: peak_loc_to_name[peak_locs].values.tolist() for tf_motif, peak_locs in peak_locs[peak_idx].groupby(tf_motifs[tf_idx].values) }\n",
    "len(tf_to_peaks)"
   ]
  },
  {
   "cell_type": "code",
   "execution_count": 8,
   "metadata": {},
   "outputs": [
    {
     "data": {
      "text/plain": [
       "146156"
      ]
     },
     "execution_count": 8,
     "metadata": {},
     "output_type": "execute_result"
    }
   ],
   "source": [
    "# extract peak -> gene mappings from scoring dataframe index\n",
    "peak_to_genes = sensitivity_df.index.get_level_values(0).groupby(sensitivity_df.index.get_level_values(1))\n",
    "peak_to_genes = { k: v.tolist() for k, v in peak_to_genes.items() }\n",
    "len(peak_to_genes)"
   ]
  },
  {
   "cell_type": "code",
   "execution_count": 9,
   "metadata": {},
   "outputs": [],
   "source": [
    "edges = {}\n",
    "edges.update(tf_to_peaks)\n",
    "edges.update(peak_to_genes)"
   ]
  },
  {
   "cell_type": "code",
   "execution_count": 10,
   "metadata": {},
   "outputs": [],
   "source": [
    "with open(\"./data/grn.json\", 'w') as fp:\n",
    "  json.dump({'nodes': nodes, 'edges': edges}, fp)"
   ]
  }
 ],
 "metadata": {
  "kernelspec": {
   "display_name": ".venv",
   "language": "python",
   "name": "python3"
  },
  "language_info": {
   "codemirror_mode": {
    "name": "ipython",
    "version": 3
   },
   "file_extension": ".py",
   "mimetype": "text/x-python",
   "name": "python",
   "nbconvert_exporter": "python",
   "pygments_lexer": "ipython3",
   "version": "3.12.4"
  }
 },
 "nbformat": 4,
 "nbformat_minor": 2
}
